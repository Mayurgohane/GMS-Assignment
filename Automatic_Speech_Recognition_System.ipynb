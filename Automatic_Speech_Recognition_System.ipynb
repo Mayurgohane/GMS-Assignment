{
  "nbformat": 4,
  "nbformat_minor": 0,
  "metadata": {
    "colab": {
      "provenance": []
    },
    "kernelspec": {
      "name": "python3",
      "display_name": "Python 3"
    },
    "language_info": {
      "name": "python"
    }
  },
  "cells": [
    {
      "cell_type": "code",
      "source": [
        "import os\n",
        "import concurrent.futures\n",
        "import requests\n",
        "from pydub import AudioSegment\n",
        "import pickle"
      ],
      "metadata": {
        "id": "JnUWv6WxHlSK"
      },
      "execution_count": null,
      "outputs": []
    },
    {
      "cell_type": "code",
      "source": [
        "# Constants for API endpoint and API key\n",
        "API_ENDPOINT = \"your_asr_api_endpoint\"\n",
        "API_KEY = \"your_api_key\""
      ],
      "metadata": {
        "id": "-1W97u6QHlVj"
      },
      "execution_count": null,
      "outputs": []
    },
    {
      "cell_type": "code",
      "source": [
        "# Function to transcribe a single audio file\n",
        "def transcribe_audio(file_path):\n",
        "    # Check cache for previously transcribed results\n",
        "    cache_file = file_path + \".cache\"\n",
        "    if os.path.exists(cache_file):\n",
        "        with open(cache_file, 'rb') as f:\n",
        "            return pickle.load(f)\n",
        "\n",
        "    # Convert audio file to WAV format\n",
        "    audio = AudioSegment.from_file(file_path)\n",
        "    wav_file = os.path.splitext(file_path)[0] + \".wav\"\n",
        "    audio.export(wav_file, format=\"wav\")\n",
        "\n",
        "    # Send request to ASR API\n",
        "    headers = {\"Authorization\": \"Bearer \" + API_KEY}\n",
        "    files = {\"file\": open(wav_file, \"rb\")}\n",
        "    response = requests.post(API_ENDPOINT, headers=headers, files=files)\n",
        "\n",
        "    # Retrieve transcription from response\n",
        "    if response.status_code == 200:\n",
        "        transcription = response.json()[\"transcription\"]\n",
        "        # Cache the result\n",
        "        with open(cache_file, 'wb') as f:\n",
        "            pickle.dump(transcription, f)\n",
        "        return transcription\n",
        "    else:\n",
        "        return \"Error: Unable to transcribe audio\""
      ],
      "metadata": {
        "id": "EZ75GkKlHlZK"
      },
      "execution_count": null,
      "outputs": []
    },
    {
      "cell_type": "code",
      "source": [
        "# Function to transcribe a batch of audio files asynchronously\n",
        "def process_batch(audio_files):\n",
        "    transcribed_texts = {}\n",
        "    with concurrent.futures.ThreadPoolExecutor() as executor:\n",
        "        future_to_file = {executor.submit(transcribe_audio, file): file for file in audio_files}\n",
        "        for future in concurrent.futures.as_completed(future_to_file):\n",
        "            file = future_to_file[future]\n",
        "            try:\n",
        "                transcribed_texts[os.path.basename(file)] = future.result()\n",
        "            except Exception as e:\n",
        "                transcribed_texts[os.path.basename(file)] = str(e)\n",
        "    return transcribed_texts"
      ],
      "metadata": {
        "id": "66L3EvkFHlcT"
      },
      "execution_count": null,
      "outputs": []
    },
    {
      "cell_type": "code",
      "source": [
        "# Example\n",
        "if __name__ == \"__main__\":\n",
        "    audio_files = [\"audio1.mp3\", \"audio2.wav\", \"audio3.wav\"]\n",
        "    transcriptions = process_batch(audio_files)\n",
        "    print(transcriptions)"
      ],
      "metadata": {
        "id": "VT7OEfvZHlgI"
      },
      "execution_count": null,
      "outputs": []
    },
    {
      "cell_type": "code",
      "source": [],
      "metadata": {
        "id": "cPUTYQRoHliK"
      },
      "execution_count": null,
      "outputs": []
    }
  ]
}