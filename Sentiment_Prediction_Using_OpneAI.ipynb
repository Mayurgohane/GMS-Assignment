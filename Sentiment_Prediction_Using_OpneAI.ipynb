{
  "nbformat": 4,
  "nbformat_minor": 0,
  "metadata": {
    "colab": {
      "provenance": []
    },
    "kernelspec": {
      "name": "python3",
      "display_name": "Python 3"
    },
    "language_info": {
      "name": "python"
    }
  },
  "cells": [
    {
      "cell_type": "code",
      "source": [
        "import openai\n",
        "import pprint"
      ],
      "metadata": {
        "id": "K5kRJB_a_LoR"
      },
      "execution_count": null,
      "outputs": []
    },
    {
      "cell_type": "code",
      "source": [
        "openai.api_key=\"---\""
      ],
      "metadata": {
        "id": "jIvnCIHh-MII"
      },
      "execution_count": null,
      "outputs": []
    },
    {
      "cell_type": "code",
      "source": [
        "response = openai.Completion.create(\n",
        "    model=\"text-davinci_003\",\n",
        "    prompt=\"Decide whether given sentiment is positive, negative or neutral. sentence: i like that phone\",\n",
        "    temperature=0,\n",
        "    max_tokens=60,\n",
        "    top_p=1,\n",
        "    frequency_penalty=0.5,\n",
        "    presence_penalty=0\n",
        ")"
      ],
      "metadata": {
        "id": "fm0t9LKh-MMu"
      },
      "execution_count": null,
      "outputs": []
    },
    {
      "cell_type": "code",
      "source": [
        "pprint.pprint(response)\n",
        "pprint.pprint(response['choices'][0]['text'].strip())"
      ],
      "metadata": {
        "id": "Jr_oZv6Z-MPr"
      },
      "execution_count": null,
      "outputs": []
    },
    {
      "cell_type": "code",
      "source": [],
      "metadata": {
        "id": "2BdR132Z-MSp"
      },
      "execution_count": null,
      "outputs": []
    },
    {
      "cell_type": "code",
      "source": [],
      "metadata": {
        "id": "NZ3xJ7K_-MVW"
      },
      "execution_count": null,
      "outputs": []
    }
  ]
}